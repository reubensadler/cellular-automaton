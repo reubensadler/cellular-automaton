{
 "cells": [
  {
   "cell_type": "markdown",
   "metadata": {},
   "source": [
    "# Cellular Automaton\n",
    "\n",
    "Create an animated cellular automaton  \n",
    "\n",
    "### You may need to add the path to ffmpeg to create the animation\n",
    "Replace INSERT PATH HERE with your path, and uncomment the line"
   ]
  },
  {
   "cell_type": "code",
   "execution_count": null,
   "metadata": {},
   "outputs": [],
   "source": [
    "import numpy as np\n",
    "from numpy.random import seed\n",
    "from numpy.random import rand\n",
    "import matplotlib.pyplot as plt\n",
    "# plt.rcParams['animation.ffmpeg_path'] = r'INSERT PATH HERE'\n",
    "import matplotlib.cm as cm\n",
    "from matplotlib import animation,rc\n",
    "from IPython.display import HTML"
   ]
  },
  {
   "cell_type": "markdown",
   "metadata": {},
   "source": [
    "### Universe Rules\n",
    "Choose universe variables and settings.  \n",
    "The default birth and death rules are for Conway's Game of Life"
   ]
  },
  {
   "cell_type": "code",
   "execution_count": null,
   "metadata": {},
   "outputs": [],
   "source": [
    "select_variables = input(\"Would you like to choose universe variables? If No, default values will be used (Yes/No): \")\n",
    "\n",
    "if select_variables == \"Yes\":\n",
    "    universe_height = int(input(\"Enter universe height: \"))\n",
    "    universe_width = int(input(\"Enter universe width: \"))\n",
    "    overpop = int(input(\"Enter overpopulation limit (0-8):  \"))\n",
    "    underpop = int(input(\"Enter underpopulation limit (0-8): \"))\n",
    "    birth = int(input(\"Enter birth limit (0-8): \"))\n",
    "    afterglow = input(\"Enable afterglow effect? (Yes/No): \")\n",
    "    wraparound  = input(\"Enable wraparound? (Yes/No): \")\n",
    "    \n",
    "else:\n",
    "    universe_height = 30\n",
    "    universe_width = 30\n",
    "    overpop = 3\n",
    "    underpop = 2\n",
    "    birth = 3\n",
    "    afterglow = \"Yes\"\n",
    "    wraparound = \"No\""
   ]
  },
  {
   "cell_type": "markdown",
   "metadata": {},
   "source": [
    "### Patterns\n",
    "\n",
    "Three standard patterns that can be added to the universe - the beacon oscillates in place, the glider travels diagonally down and right and the lightweight spaceship (LWSS) travels horizontally right.\n",
    "\n",
    "More patterns can be added here (the array must not be jagged), and if added to pattern_list they can then be added to future universes with no further changes to the code"
   ]
  },
  {
   "cell_type": "code",
   "execution_count": null,
   "metadata": {},
   "outputs": [],
   "source": [
    "beacon = [[1, 1, 0, 0],\n",
    "          [1, 1, 0, 0],\n",
    "          [0, 0, 1, 1],\n",
    "          [0, 0, 1, 1]]\n",
    "\n",
    "glider = [[0, 1, 0],\n",
    "          [0, 0, 1],\n",
    "          [1, 1, 1]]\n",
    "\n",
    "LWSS = [[0, 0, 1, 0, 0, 0],\n",
    "        [1, 0, 0, 0, 1, 0],\n",
    "        [0, 0, 0, 0, 0, 1],\n",
    "        [1, 0, 0, 0, 0, 1],\n",
    "        [0, 1, 1, 1, 1, 1]]\n",
    "\n",
    "pattern_list = {\"Beacon\": beacon, \"Glider\": glider, \n",
    "                \"Lightweight Spaceship\": LWSS}"
   ]
  },
  {
   "cell_type": "markdown",
   "metadata": {},
   "source": [
    "### Universe Functions\n",
    "Functions used to create and alter the universe"
   ]
  },
  {
   "cell_type": "code",
   "execution_count": null,
   "metadata": {},
   "outputs": [],
   "source": [
    "def countNeighbours(x, y):\n",
    "    num_neighbours = 0\n",
    "    for i in (-1,0,1):\n",
    "        for j in (-1,0,1):\n",
    "            \n",
    "            if (wraparound == \"Yes\"):\n",
    "                if ((i != 0 or j != 0) and universe[(x+i)%universe_height, (y+j)%universe_width] == 1):\n",
    "                    num_neighbours += 1\n",
    "            else:\n",
    "\n",
    "                if ((0 <= x+i < universe_height) and (0 <= y+j < universe_width)):\n",
    "                    if ((i != 0 or j != 0) and (universe[x+i, y+j]) == 1):\n",
    "                        num_neighbours += 1            \n",
    "\n",
    "    return num_neighbours\n",
    "\n",
    "\n",
    "def iterateUniverse():\n",
    "    \n",
    "    new_universe = np.zeros((universe_height, universe_width))                         \n",
    "    new_universe[0:universe_height, 0:universe_width] = universe\n",
    "    \n",
    "    for x in range(0, universe_height):\n",
    "        for y in range (0, universe_width):\n",
    "            neighbours = countNeighbours(x, y)\n",
    "            \n",
    "            if afterglow == \"Yes\":\n",
    "                if ((new_universe[x, y] == 1) and (neighbours < underpop or neighbours > overpop)):\n",
    "                    new_universe[x, y] = 0.5\n",
    "                \n",
    "                if ((new_universe[x, y] < 1) and (neighbours is birth)):\n",
    "                    new_universe[x, y] = 1\n",
    "                elif (0 < new_universe[x, y] < 1):\n",
    "                    new_universe[x, y] -= 0.02\n",
    "            \n",
    "            else:\n",
    "                if ((new_universe[x, y] == 1) and (neighbours < underpop or neighbours > overpop)):\n",
    "                    new_universe[x, y] = 0\n",
    "                \n",
    "                if ((new_universe[x, y] == 0) and (neighbours is birth)):\n",
    "                    new_universe[x, y] = 1                \n",
    "            \n",
    "                \n",
    "    \n",
    "    return new_universe\n",
    "\n",
    "    \n",
    "def randomUniverse(universe_density):\n",
    "    \n",
    "    for x in range(universe_height):\n",
    "        for y in range(universe_width):\n",
    "            if np.random.random() < universe_density:\n",
    "                universe[x][y] = 1\n",
    "                \n",
    "                \n",
    "def insertPattern(number_of_patterns):\n",
    "    \n",
    "    for n in range(number_of_patterns):\n",
    "        print(\"Which pattern would you like to add? Choose one of:\", *pattern_list, sep = \"\\n\")\n",
    "        pattern = input()\n",
    "        pattern_x = int(input(\"Enter x coordinate for the pattern: \"))\n",
    "        pattern_y = int(input(\"Enter y coordinate for the pattern: \"))\n",
    "        \n",
    "        pattern_length = len(pattern_list[pattern])\n",
    "        pattern_width = len(pattern_list[pattern][0])\n",
    "        universe[pattern_x:(pattern_x + pattern_length), pattern_y:(pattern_y + pattern_width)] = pattern_list[pattern]\n",
    "        \n"
   ]
  },
  {
   "cell_type": "markdown",
   "metadata": {},
   "source": [
    "### Animation Functions\n",
    "Functions needed for FuncAnimations"
   ]
  },
  {
   "cell_type": "code",
   "execution_count": null,
   "metadata": {},
   "outputs": [],
   "source": [
    "def init():\n",
    "    return (im,)\n",
    "\n",
    "def animate(i):\n",
    "    if i is 0:\n",
    "        return [im]\n",
    "    else:\n",
    "        universe[0:universe_height, 0:universe_width] = iterateUniverse()\n",
    "        im.set_array(universe)\n",
    "        return [im]"
   ]
  },
  {
   "cell_type": "markdown",
   "metadata": {},
   "source": [
    "### Create the Universe\n",
    "Run to create the universe with two options:  \n",
    "Randomly set cells to alive with a chosen probability  \n",
    "or  \n",
    "Enter created patterns into an empty universe"
   ]
  },
  {
   "cell_type": "code",
   "execution_count": null,
   "metadata": {},
   "outputs": [],
   "source": [
    "universe = np.zeros((universe_height, universe_width))\n",
    "\n",
    "universe_type = input(\"Random universe or empty universe with patterns? (Random/Empty): \")\n",
    "\n",
    "if universe_type == \"Empty\":\n",
    "    insertPattern(int(input(\"How many patterns would you like to add?\")))\n",
    "\n",
    "else:\n",
    "    randomUniverse(float(input(\"Enter universe density (0-1): \")))"
   ]
  },
  {
   "cell_type": "markdown",
   "metadata": {},
   "source": [
    "### Figure Creation\n",
    "Create the base figure for your animation"
   ]
  },
  {
   "cell_type": "code",
   "execution_count": null,
   "metadata": {},
   "outputs": [],
   "source": [
    "print(\"Initial conditions of the universe: \")\n",
    "fig = plt.figure()\n",
    "fig = plt.figure(figsize = (10,10))\n",
    "plt.axis(\"off\")\n",
    "im = plt.imshow(universe, cmap = 'Greys')\n",
    "plt.show()"
   ]
  },
  {
   "cell_type": "markdown",
   "metadata": {},
   "source": [
    "### Animation\n",
    "Run to create the animation.  "
   ]
  },
  {
   "cell_type": "code",
   "execution_count": null,
   "metadata": {},
   "outputs": [],
   "source": [
    "anim = animation.FuncAnimation(fig, func=animate, init_func=init, frames=200, interval = 100, blit=True)\n",
    "HTML(anim.to_html5_video())"
   ]
  }
 ],
 "metadata": {
  "kernelspec": {
   "display_name": "Python 3",
   "language": "python",
   "name": "python3"
  },
  "language_info": {
   "codemirror_mode": {
    "name": "ipython",
    "version": 3
   },
   "file_extension": ".py",
   "mimetype": "text/x-python",
   "name": "python",
   "nbconvert_exporter": "python",
   "pygments_lexer": "ipython3",
   "version": "3.7.6"
  }
 },
 "nbformat": 4,
 "nbformat_minor": 4
}
